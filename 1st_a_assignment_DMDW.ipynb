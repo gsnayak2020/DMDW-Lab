{
  "nbformat": 4,
  "nbformat_minor": 0,
  "metadata": {
    "kernelspec": {
      "display_name": "Python 3",
      "language": "python",
      "name": "python3"
    },
    "language_info": {
      "codemirror_mode": {
        "name": "ipython",
        "version": 3
      },
      "file_extension": ".py",
      "mimetype": "text/x-python",
      "name": "python",
      "nbconvert_exporter": "python",
      "pygments_lexer": "ipython3",
      "version": "3.6.0"
    },
    "colab": {
      "name": "1st-a_assignment_DMDW.ipynb",
      "provenance": [],
      "collapsed_sections": []
    }
  },
  "cells": [
    {
      "cell_type": "markdown",
      "metadata": {
        "collapsed": true,
        "id": "JY96pud4NfZX"
      },
      "source": [
        "# Introduction:\n",
        "\n",
        "IPython is a command shell for interactive computing in multiple programming languages, originally developed for the Python programming language, that offers introspection, rich media, shell syntax, tab completion, and history. IPython provides the following features:\n",
        "\n",
        "\n",
        "1. Interactive shells (terminal and Qt-based(Crossplatform)).\n",
        "2. A browser-based notebook with support for code, text, mathematical expressions, inline plots and other media.\n",
        "3. Support for interactive data visualization and use of GUI toolkits.\n",
        "4. Flexible, embeddable interpreters to load into one's own projects.\n",
        "5. Tools for parallel computing.\n",
        "\n",
        "\n",
        "How to Start?\n",
        "1. Create an IPython notebook, choose File -> New -> IPython notebook. \n",
        "2. Create a new cell(to write text or code), Hit Alt+Enter to create a new cell. \n",
        "3. To run, Hit Shift+Enter \n",
        "4. Convert cell to text, ESC + m OR select mark down from top\n",
        "5. Delete cell, ESC + D\n"
      ]
    },
    {
      "cell_type": "code",
      "metadata": {
        "id": "mabeynL9NfZZ",
        "outputId": "9c1dc5ab-72d5-4c4a-df6e-97a5dd63ab86"
      },
      "source": [
        "print(\"Hello World!\")"
      ],
      "execution_count": null,
      "outputs": [
        {
          "output_type": "stream",
          "text": [
            "Hello World!\n"
          ],
          "name": "stdout"
        }
      ]
    },
    {
      "cell_type": "code",
      "metadata": {
        "id": "QbZ6Ys6GNfZh"
      },
      "source": [
        "# No need to define a data type. Auto interprested\n",
        "workingdirectory=('C:\\\\Users\\Vinit\\Desktop\\Harish\\Classes\\7 April Batch\\A4 Day 3 - 14 April python\\\\')"
      ],
      "execution_count": null,
      "outputs": []
    },
    {
      "cell_type": "code",
      "metadata": {
        "id": "NtITG7BjNfZm",
        "outputId": "e3fc0451-47a0-4cdd-c544-38c21820d584"
      },
      "source": [
        "print(workingdirectory);"
      ],
      "execution_count": null,
      "outputs": [
        {
          "output_type": "stream",
          "text": [
            "C:\\Users\\Vinit\\Desktop\\Harish\\Classes\u0007 April Batch\\A4 Day 3 - 14 April python\\\n"
          ],
          "name": "stdout"
        }
      ]
    },
    {
      "cell_type": "code",
      "metadata": {
        "id": "SOIcyYSXNfZq",
        "outputId": "3ef54547-b291-4773-c77e-69ce45b6f187"
      },
      "source": [
        "print (\"Multiply Operation is as below\")\n",
        "23*543"
      ],
      "execution_count": null,
      "outputs": [
        {
          "output_type": "stream",
          "text": [
            "Multiply Operation is as below\n"
          ],
          "name": "stdout"
        },
        {
          "output_type": "execute_result",
          "data": {
            "text/plain": [
              "12489"
            ]
          },
          "metadata": {
            "tags": []
          },
          "execution_count": 4
        }
      ]
    },
    {
      "cell_type": "markdown",
      "metadata": {
        "id": "5vjXvaylNfZu"
      },
      "source": [
        "To see history of commands, %history\n",
        "Used to extract code from IPython notebook to a separate file. "
      ]
    },
    {
      "cell_type": "code",
      "metadata": {
        "id": "1oIKoBl8NfZv",
        "outputId": "12ee27fa-a0f5-41a6-fcce-d24232b29090"
      },
      "source": [
        "%history"
      ],
      "execution_count": null,
      "outputs": [
        {
          "output_type": "stream",
          "text": [
            "print(\"Hello World!\")\n",
            "# No need to define a data type. Auto interprested\n",
            "workingdirectory=('C:\\\\Users\\Vinit\\Desktop\\Harish\\Classes\\7 April Batch\\A4 Day 3 - 14 April python\\\\')\n",
            "print(workingdirectory);\n",
            "print (\"Multiply Operation is as below\")\n",
            "23*543\n",
            "%history\n"
          ],
          "name": "stdout"
        }
      ]
    },
    {
      "cell_type": "markdown",
      "metadata": {
        "id": "bLXnCD7PNfZ0"
      },
      "source": [
        "To get more details on command/ function, use ? at the end"
      ]
    },
    {
      "cell_type": "code",
      "metadata": {
        "id": "gFhGmrypNfZ1"
      },
      "source": [
        "print?"
      ],
      "execution_count": null,
      "outputs": []
    },
    {
      "cell_type": "markdown",
      "metadata": {
        "id": "cpaZRTrWNfZ5"
      },
      "source": [
        "NumPy (pronounced /ˈnʌmpaɪ/ (NUM-py) or sometimes /ˈnʌmpi/ (NUM-pee)) is a library for the Python programming language, adding support for large, multi-dimensional arrays and matrices, along with a large collection of high-level mathematical functions to operate on these arrays."
      ]
    },
    {
      "cell_type": "code",
      "metadata": {
        "id": "Yh5V1l4VNfZ6"
      },
      "source": [
        "import numpy as np\n",
        "np.mean?"
      ],
      "execution_count": null,
      "outputs": []
    },
    {
      "cell_type": "markdown",
      "metadata": {
        "id": "moWyihMUNfZ_"
      },
      "source": [
        "To see all functions and commands that are associated with a package (such as NumPy), use TAB button. "
      ]
    },
    {
      "cell_type": "code",
      "metadata": {
        "id": "5xUNYQLZNfaF",
        "outputId": "fac48e25-0418-423a-c40e-ded6d82e1ba7"
      },
      "source": [
        "np.add(2 , 5)"
      ],
      "execution_count": null,
      "outputs": [
        {
          "output_type": "execute_result",
          "data": {
            "text/plain": [
              "7"
            ]
          },
          "metadata": {
            "tags": []
          },
          "execution_count": 8
        }
      ]
    },
    {
      "cell_type": "markdown",
      "metadata": {
        "id": "PgseimEnNfaJ"
      },
      "source": [
        "**Syntax in python**\n",
        "\n",
        "1. Case Sensitive language\n",
        "2. whitespace (space bar/blank) used for intendation \n",
        "3. ; at end of statement not required \n",
        "4. IF , ELSE, use whitespace\n",
        "\n",
        "There should not be unnecessary spaces.\n",
        "'#' Denotes comments\n",
        "'''  commented lines  ''' is used for multi line comments"
      ]
    },
    {
      "cell_type": "code",
      "metadata": {
        "id": "Vt83YzG8NfaK",
        "outputId": "f5832ecf-0178-4566-ed71-170c1b68eaf8"
      },
      "source": [
        "age = 7\n",
        "print ('Age is ', age)   #Remove space and try again\n"
      ],
      "execution_count": null,
      "outputs": [
        {
          "output_type": "stream",
          "text": [
            "Age is  7\n"
          ],
          "name": "stdout"
        }
      ]
    },
    {
      "cell_type": "code",
      "metadata": {
        "id": "9GOcmzXQNfaN",
        "outputId": "87778f83-d2b9-4a80-a332-ce8209b39490"
      },
      "source": [
        "# single line comment\n",
        "# print(\"This line will not be printed, This line is in a single line comment\")\n",
        "''' block comment 3 single quotes\n",
        "print(\"Block comment line\")\n",
        "print (\"Block comment line\")\n",
        "'''\n",
        "print(\"Out of comment\")"
      ],
      "execution_count": null,
      "outputs": [
        {
          "output_type": "stream",
          "text": [
            "Out of comment\n"
          ],
          "name": "stdout"
        }
      ]
    },
    {
      "cell_type": "markdown",
      "metadata": {
        "id": "buo3gNysNfaa"
      },
      "source": [
        "**Variables and Data Structures**\n",
        "\n",
        "Built in data types: int, float, string, boolean value, date, time\n",
        "\n",
        "data structurs: Tuple (immutable - can not change value) , List (mutable - change the value), Dictionary (Key Value pair. 1 key, can be multiple values)\n"
      ]
    },
    {
      "cell_type": "code",
      "metadata": {
        "id": "tX-l7Wo8Nfab",
        "outputId": "be6d09a1-63ac-4d43-bfb5-bedd6a510303"
      },
      "source": [
        "# Auto assigns type\n",
        "\n",
        "name    = \"Amitabh\"       # A string\n",
        "age     = 26              # An integer assignment\n",
        "weight  = 70.4            # A floating point\n",
        "\n",
        "print (name)\n",
        "print (age)\n",
        "print (weight)\n",
        "\n"
      ],
      "execution_count": null,
      "outputs": [
        {
          "output_type": "stream",
          "text": [
            "Amitabh\n",
            "26\n",
            "70.4\n"
          ],
          "name": "stdout"
        }
      ]
    },
    {
      "cell_type": "code",
      "metadata": {
        "id": "_Eew1S6UNfae",
        "outputId": "e002111d-d458-43df-ec36-322efce4ae1c"
      },
      "source": [
        "# Difference between numeric addition and string concatination\n",
        "\n",
        "a = 12                   # Since no decimal point, it will auto assume as integer\n",
        "b = 7.5                  # since decimal point, it will auto assume as float\n",
        "c = \"5\"                 # String, since inverted commas\n",
        "d = \"2\"                 # String, since inverted commas\n",
        "print(b + a)  # Sum of values = 7.5 + 12 = 19.5\n",
        "print(c  + d) # Concatenating Strings = \"5\" + \"2\" = \"52\""
      ],
      "execution_count": null,
      "outputs": [
        {
          "output_type": "stream",
          "text": [
            "19.5\n",
            "52\n"
          ],
          "name": "stdout"
        }
      ]
    },
    {
      "cell_type": "markdown",
      "metadata": {
        "id": "5gn95uLcNfaj"
      },
      "source": [
        "**String**\n",
        "\n"
      ]
    },
    {
      "cell_type": "code",
      "metadata": {
        "id": "AgU3ftW_Nfaj",
        "outputId": "2e1930b9-501f-4a7a-bb09-1b41e44d851c"
      },
      "source": [
        "strr = 'Hello World'       # 0-H 1-e 2-l 3-l 4-o 5-' ' 6-W 7-o 8-r 9-l 10-d\n",
        "print (strr)            # prints complete string\n",
        "print (strr[0])         # prints first character of string   ... It will print H  \n",
        "print (strr[3:6])       # prints characters starting from 4th to 6th. Exclude last element. 'W' is excluded.   ...3--l 4-o 5-' ' \n",
        "print (strr[6:])        # prints string starting from 7th character.... 6-W 7-o 8-r 9-l 10-d\n",
        "print (strr*2)          # prints string two times... Hello WorldHello World\n",
        "print (strr + \"!!!\")    # prints concatenated string... Hello World!!!"
      ],
      "execution_count": null,
      "outputs": [
        {
          "output_type": "stream",
          "text": [
            "Hello World\n",
            "H\n",
            "lo \n",
            "World\n",
            "Hello WorldHello World\n",
            "Hello World!!!\n"
          ],
          "name": "stdout"
        }
      ]
    },
    {
      "cell_type": "code",
      "metadata": {
        "id": "UmK6L6zSNfao",
        "outputId": "bc406e2a-616c-43e4-f105-4a64c8b810c4"
      },
      "source": [
        "strr =\"hello\"\n",
        "print(strr[-1]) # Print last character    \n",
        "\n",
        "\n",
        "\n"
      ],
      "execution_count": null,
      "outputs": [
        {
          "output_type": "stream",
          "text": [
            "o\n"
          ],
          "name": "stdout"
        }
      ]
    },
    {
      "cell_type": "code",
      "metadata": {
        "id": "8t0GWUcFNfat",
        "outputId": "936e0122-7663-4e8a-a937-7a97bd4f8d23"
      },
      "source": [
        "a = 'Hello World'\n",
        "b = a.replace('World','India')    # a = Hello World --> b = Hello India\n",
        "print (a) \n",
        "print (b)"
      ],
      "execution_count": null,
      "outputs": [
        {
          "output_type": "stream",
          "text": [
            "Hello World\n",
            "Hello India\n"
          ],
          "name": "stdout"
        }
      ]
    },
    {
      "cell_type": "code",
      "metadata": {
        "id": "bNSfej2UNfay",
        "outputId": "32bfd021-a739-400d-88ef-b71d30361972"
      },
      "source": [
        "a = '10'              # String because 10 is in inverted commas\n",
        "anum = int(a)         # Typecaste/Convert String '10' to Integer - Possible... anum = 10 (integer)\n",
        "print (anum + anum)  # 10 + 10 = 20"
      ],
      "execution_count": null,
      "outputs": [
        {
          "output_type": "stream",
          "text": [
            "20\n"
          ],
          "name": "stdout"
        }
      ]
    },
    {
      "cell_type": "code",
      "metadata": {
        "id": "03xHvZ4uNfa3",
        "outputId": "8bc0a3d9-902c-4cc7-dfb7-ca3d0ba154ee"
      },
      "source": [
        "achar = str(anum)     # Typecaste/Convert int '10' to string - Possible.   10 will become string '10'\n",
        "print (achar + achar) # Since achar is a string, + will do concatenation . '10'+'10' = '1010'"
      ],
      "execution_count": null,
      "outputs": [
        {
          "output_type": "stream",
          "text": [
            "1010\n"
          ],
          "name": "stdout"
        }
      ]
    },
    {
      "cell_type": "code",
      "metadata": {
        "id": "QL6w2mClNfa7",
        "outputId": "109c720d-90cc-40ad-f12d-4d6401213f29"
      },
      "source": [
        "a = \"hi\"               # String\n",
        "anum = int(a)         # Typecaste/Convert String 'hi' to Integer - Not Possible\n",
        "print (anum)\n"
      ],
      "execution_count": null,
      "outputs": [
        {
          "output_type": "error",
          "ename": "ValueError",
          "evalue": "invalid literal for int() with base 10: 'hi'",
          "traceback": [
            "\u001b[0;31m---------------------------------------------------------------------------\u001b[0m",
            "\u001b[0;31mValueError\u001b[0m                                Traceback (most recent call last)",
            "\u001b[0;32m<ipython-input-21-f03488690ff9>\u001b[0m in \u001b[0;36m<module>\u001b[0;34m()\u001b[0m\n\u001b[1;32m      1\u001b[0m \u001b[0ma\u001b[0m \u001b[1;33m=\u001b[0m \u001b[1;34m\"hi\"\u001b[0m               \u001b[1;31m# String\u001b[0m\u001b[1;33m\u001b[0m\u001b[0m\n\u001b[0;32m----> 2\u001b[0;31m \u001b[0manum\u001b[0m \u001b[1;33m=\u001b[0m \u001b[0mint\u001b[0m\u001b[1;33m(\u001b[0m\u001b[0ma\u001b[0m\u001b[1;33m)\u001b[0m         \u001b[1;31m# Typecaste/Convert String 'hi' to Integer - Not Possible\u001b[0m\u001b[1;33m\u001b[0m\u001b[0m\n\u001b[0m\u001b[1;32m      3\u001b[0m \u001b[0mprint\u001b[0m \u001b[1;33m(\u001b[0m\u001b[0manum\u001b[0m\u001b[1;33m)\u001b[0m\u001b[1;33m\u001b[0m\u001b[0m\n",
            "\u001b[0;31mValueError\u001b[0m: invalid literal for int() with base 10: 'hi'"
          ]
        }
      ]
    },
    {
      "cell_type": "code",
      "metadata": {
        "id": "TQQdA9vjNfa_",
        "outputId": "ff44cece-56af-4502-ac55-e6423943798f"
      },
      "source": [
        "a = \"hi there\"\n",
        "print (a)\n",
        "print (len(a))\n"
      ],
      "execution_count": null,
      "outputs": [
        {
          "output_type": "stream",
          "text": [
            "hi there\n",
            "8\n"
          ],
          "name": "stdout"
        }
      ]
    },
    {
      "cell_type": "code",
      "metadata": {
        "id": "v2i__OsjNfbD",
        "outputId": "9d606b22-0928-4687-bbbf-9642297fc8e2"
      },
      "source": [
        "# a is 'hi there' . i.e. it is a string\n",
        "# len(a) = 8, which is numeric\n",
        "\n",
        "a + len(a) # Concatenating String & Integer - Error\n"
      ],
      "execution_count": null,
      "outputs": [
        {
          "output_type": "error",
          "ename": "TypeError",
          "evalue": "must be str, not int",
          "traceback": [
            "\u001b[0;31m---------------------------------------------------------------------------\u001b[0m",
            "\u001b[0;31mTypeError\u001b[0m                                 Traceback (most recent call last)",
            "\u001b[0;32m<ipython-input-23-33213df96df0>\u001b[0m in \u001b[0;36m<module>\u001b[0;34m()\u001b[0m\n\u001b[1;32m      2\u001b[0m \u001b[1;31m# len(a) = 8, which is numeric\u001b[0m\u001b[1;33m\u001b[0m\u001b[1;33m\u001b[0m\u001b[0m\n\u001b[1;32m      3\u001b[0m \u001b[1;33m\u001b[0m\u001b[0m\n\u001b[0;32m----> 4\u001b[0;31m \u001b[0ma\u001b[0m \u001b[1;33m+\u001b[0m \u001b[0mlen\u001b[0m\u001b[1;33m(\u001b[0m\u001b[0ma\u001b[0m\u001b[1;33m)\u001b[0m \u001b[1;31m# Concatenating String & Integer - Error\u001b[0m\u001b[1;33m\u001b[0m\u001b[0m\n\u001b[0m",
            "\u001b[0;31mTypeError\u001b[0m: must be str, not int"
          ]
        }
      ]
    },
    {
      "cell_type": "code",
      "metadata": {
        "id": "0JRz2arLNfbH",
        "outputId": "6f79b21c-5667-46df-d406-09aed3e16b30"
      },
      "source": [
        "a + str(len(a)) # Convert to String so that concatenation works"
      ],
      "execution_count": null,
      "outputs": [
        {
          "output_type": "execute_result",
          "data": {
            "text/plain": [
              "'hi there8'"
            ]
          },
          "metadata": {
            "tags": []
          },
          "execution_count": 24
        }
      ]
    },
    {
      "cell_type": "code",
      "metadata": {
        "id": "xAqZlrLJNfbL",
        "outputId": "ed7f25e5-d5d5-4ecd-fb3b-bdbee9ee564d"
      },
      "source": [
        "# Lets us see how to create formatted outputs\n",
        "string = \"This is python\"\n",
        "strlist = list(string)\n",
        "print(strlist)\n",
        "\n"
      ],
      "execution_count": null,
      "outputs": [
        {
          "output_type": "stream",
          "text": [
            "['T', 'h', 'i', 's', ' ', 'i', 's', ' ', 'p', 'y', 't', 'h', 'o', 'n']\n"
          ],
          "name": "stdout"
        }
      ]
    },
    {
      "cell_type": "code",
      "metadata": {
        "id": "RDcl2V2VNfbU",
        "outputId": "4dc82eba-62ab-4f48-bd8b-7c81ce0c6b9d"
      },
      "source": [
        "string = \"This is python\"\n",
        "print (string.count('s'))\n",
        "print (string.split(' '))\n",
        "print (string.upper())\n",
        "print (string.lower())\n",
        "print (string.swapcase())\n"
      ],
      "execution_count": null,
      "outputs": [
        {
          "output_type": "stream",
          "text": [
            "2\n",
            "['This', 'is', 'python']\n",
            "THIS IS PYTHON\n",
            "this is python\n",
            "tHIS IS PYTHON\n"
          ],
          "name": "stdout"
        }
      ]
    },
    {
      "cell_type": "code",
      "metadata": {
        "id": "LVf1dmLBNfbY",
        "outputId": "4b2f777f-6711-410e-92ee-f0ce151caab8"
      },
      "source": [
        "str1 = \"    Today is a bright sunny day in New York      \"\n",
        "print (str1.rstrip())                   # Remove spaces from right \n",
        "print (str1.lstrip())                   # Remove spaces from left \n",
        "print (str1.strip())                    # Remove spaces from both sides  \n",
        "\n",
        "print (\",\".join(str1))                  # Sequence of elements to be joined"
      ],
      "execution_count": null,
      "outputs": [
        {
          "output_type": "stream",
          "text": [
            "    Today is a bright sunny day in New York\n",
            "Today is a bright sunny day in New York      \n",
            "Today is a bright sunny day in New York\n",
            " , , , ,T,o,d,a,y, ,i,s, ,a, ,b,r,i,g,h,t, ,s,u,n,n,y, ,d,a,y, ,i,n, ,N,e,w, ,Y,o,r,k, , , , , , \n"
          ],
          "name": "stdout"
        }
      ]
    },
    {
      "cell_type": "code",
      "metadata": {
        "id": "nJ3_aX8LNfbb",
        "outputId": "34039a4c-2094-4550-a379-2f108f591fde"
      },
      "source": [
        "print (\" \".join([\"Hello\",\"World\"]))   # How to do string concatenation. \n",
        "print (\",\".join([\"Hello\",\"World\"]))   # How to do string concatenation. "
      ],
      "execution_count": null,
      "outputs": [
        {
          "output_type": "stream",
          "text": [
            "Hello World\n",
            "Hello,World\n"
          ],
          "name": "stdout"
        }
      ]
    },
    {
      "cell_type": "code",
      "metadata": {
        "id": "aHdSMeB4Nfbf",
        "outputId": "7e0b4964-c222-4931-9366-1d757a8efab4"
      },
      "source": [
        "school = 'Delhi Public School'\n",
        "print('D' in school)\n",
        "print('U' in school)"
      ],
      "execution_count": null,
      "outputs": [
        {
          "output_type": "stream",
          "text": [
            "True\n",
            "False\n"
          ],
          "name": "stdout"
        }
      ]
    },
    {
      "cell_type": "code",
      "metadata": {
        "id": "llL92nE5Nfbk",
        "outputId": "b96722bc-013b-423e-e535-40f3f744235c"
      },
      "source": [
        "# Let see how to get the type of the variables\n",
        "x='Value of x is :   0.9032'\n",
        "pos = x.find(':')\n",
        "print(pos)\n",
        "\n",
        "\n",
        "num=float(x[pos+1:])\n",
        "print (num, type(num))"
      ],
      "execution_count": null,
      "outputs": [
        {
          "output_type": "stream",
          "text": [
            "14\n",
            "0.9032 <class 'float'>\n"
          ],
          "name": "stdout"
        }
      ]
    },
    {
      "cell_type": "code",
      "metadata": {
        "id": "LioZ45azNfbo",
        "outputId": "5b75d929-e6a7-4585-ea03-41751718a613"
      },
      "source": [
        "# For the string, get first 6 characters, and last 15 characters.\n",
        "# Now join them to form a new string with an underscore in between\n",
        "\n",
        "strr = 'Hello, welcome to the world of Python'\n",
        "a = strr[0:6]             # First 6 chars\n",
        "b = strr[-15:]             # Last 15 Chars     \n",
        "\n",
        "print(a)\n",
        "print(b)\n",
        "\n",
        "c = a + '_' + b\n",
        "print(c)"
      ],
      "execution_count": null,
      "outputs": [
        {
          "output_type": "stream",
          "text": [
            "Hello,\n",
            "world of Python\n",
            "Hello,_world of Python\n"
          ],
          "name": "stdout"
        }
      ]
    },
    {
      "cell_type": "code",
      "metadata": {
        "id": "VKBE8rxYNfbs",
        "outputId": "2c5b3eea-75a5-4284-f494-39f6ad45b3ae"
      },
      "source": [
        "d = '_'.join([a,b])\n",
        "print(d)"
      ],
      "execution_count": null,
      "outputs": [
        {
          "output_type": "stream",
          "text": [
            "Hello,_world of Python\n"
          ],
          "name": "stdout"
        }
      ]
    },
    {
      "cell_type": "code",
      "metadata": {
        "id": "IZYK7CwGNfbv",
        "outputId": "e6667c28-c65a-41e6-9669-15ca9dc6126a"
      },
      "source": [
        "x = 'Hello'        # Hello -> Worlo\n",
        "y = 'World'        # World -> Helld\n",
        "#Swap first three characters of each string and join them by an |\n",
        "\n",
        "first = y[0:3] + x[3:]     # Worlo\n",
        "second = x[0:3] + y[3:]    #Helld\n",
        "\n",
        "print(first)\n",
        "print(second)\n",
        "\n",
        "final = first + '|' + second     #Worlo|Helld\n",
        "\n",
        "print(final)              "
      ],
      "execution_count": null,
      "outputs": [
        {
          "output_type": "stream",
          "text": [
            "Worlo\n",
            "Helld\n",
            "Worlo|Helld\n"
          ],
          "name": "stdout"
        }
      ]
    },
    {
      "cell_type": "markdown",
      "metadata": {
        "id": "-yLYKVG5NfcC"
      },
      "source": [
        "**List, Dictionary and Tuple**\n",
        "\n",
        "List (Similar to arrays)\n",
        "1. specify/Enclose in sqare brackets - **[ ]**\n",
        "2. **Mutable.** (Delete value, add new value in middle/start)\n",
        "3. All elements are separated by commas\n"
      ]
    },
    {
      "cell_type": "markdown",
      "metadata": {
        "id": "OQk4ToIpNfcC"
      },
      "source": [
        "**List Examples**"
      ]
    },
    {
      "cell_type": "code",
      "metadata": {
        "id": "hy69tGDfNfcD",
        "outputId": "56c41808-04d5-48c6-afcb-b4594d9a7471"
      },
      "source": [
        "list1 = [ 'abc', 123 , 5.67, 'XYZ', 11.2, 'qaz' ]\n",
        "list2 = [123, 'XYZ']\n",
        "\n",
        "print (list1)            # Print First list - o/p will print [ 'abc', 123 , 5.67, 'XYZ', 11.2, 'qaz' ]\n",
        "print (list2)            # Print Second list - o/p will print [123, 'XYZ']\n",
        "\n",
        "print (list1[0])         # Print first element of the list1   - o/p will be 0th index of list1 . i.e. 'abc'\n",
        "print (list1[1:3])       # Print elements starting from 2nd till 3rd  - o/p will be 123 , 5.67,\n",
        "print (list1[1:])        # Print elements starting from 2nd element  - o/p will be 123 , 5.67, 'XYZ', 11.2, 'qaz'\n",
        "\n",
        "print (list2 * 2)        # Print Second list 2 times. Asterisk ( * ) is repetition operator. - o/p will be 123, 'XYZ', 123, 'XYZ'\n",
        "print (list1 + list2)    # Print concatenated lists. Plus ( + ) is the concatenation operator\n",
        "                             # o/p will be 'abc', 123 , 5.67, 'XYZ', 11.2, 'qaz' , 123, 'XYZ'\n",
        "print (len(list2))       # Print length of list2       # o/p will be 2"
      ],
      "execution_count": null,
      "outputs": [
        {
          "output_type": "stream",
          "text": [
            "['abc', 123, 5.67, 'XYZ', 11.2, 'qaz']\n",
            "[123, 'XYZ']\n",
            "abc\n",
            "[123, 5.67]\n",
            "[123, 5.67, 'XYZ', 11.2, 'qaz']\n",
            "[123, 'XYZ', 123, 'XYZ']\n",
            "['abc', 123, 5.67, 'XYZ', 11.2, 'qaz', 123, 'XYZ']\n",
            "2\n"
          ],
          "name": "stdout"
        }
      ]
    },
    {
      "cell_type": "code",
      "metadata": {
        "id": "L5lJIpm9NfcH",
        "outputId": "0d8e99f4-c1ba-43ae-9446-6a33ed2a8dd5"
      },
      "source": [
        "lista = [ 'abc', 123 , 5.67, 'XYZ', 11.2, 'qaz' ]\n",
        "listb = lista          # Listb will be come [ 'abc', 123 , 5.67, 'XYZ', 11.2, 'qaz' ]\n",
        "lista = lista*2        # lista will be come [ 'abc', 123 , 5.67, 'XYZ', 11.2, 'qaz', 'abc', 123 , 5.67, 'XYZ', 11.2, 'qaz' ]\n",
        "\n",
        "print (lista)          \n",
        "print (listb)"
      ],
      "execution_count": null,
      "outputs": [
        {
          "output_type": "stream",
          "text": [
            "['abc', 123, 5.67, 'XYZ', 11.2, 'qaz', 'abc', 123, 5.67, 'XYZ', 11.2, 'qaz']\n",
            "['abc', 123, 5.67, 'XYZ', 11.2, 'qaz']\n"
          ],
          "name": "stdout"
        }
      ]
    },
    {
      "cell_type": "code",
      "metadata": {
        "id": "2ru5h4ZDNfcO",
        "outputId": "2da4174c-9f98-497c-b8b6-32e9d5cb9906"
      },
      "source": [
        "list1 = ['Mumbai', 'Delhi', 'Chennai']\n",
        "print (list1)\n",
        "\n",
        "list1.append('Hyderabad')      \n",
        "print (list1)\n",
        "\n",
        "list1.insert(0, 'Banglore')\n",
        "print (list1)\n",
        "\n",
        "list1.extend(['City1', 'City2']) \n",
        "print (list1)                         # Append can add only 1 element at end where as extend can add multiple elements\n",
        "\n",
        "list2 = ['City3', 'City4', 'City5']\n",
        "list1.extend(list2)\n",
        "print (list1)  \n",
        "\n",
        "print (list1.index('City1')) \n",
        "\n",
        "list1.remove('City4')                # Remove by Name\n",
        "print (list1)  \n",
        "\n",
        "list1.pop(1)                         # Remove by Index\n",
        "print (list1)"
      ],
      "execution_count": null,
      "outputs": [
        {
          "output_type": "stream",
          "text": [
            "['Mumbai', 'Delhi', 'Chennai']\n",
            "['Mumbai', 'Delhi', 'Chennai', 'Hyderabad']\n",
            "['Banglore', 'Mumbai', 'Delhi', 'Chennai', 'Hyderabad']\n",
            "['Banglore', 'Mumbai', 'Delhi', 'Chennai', 'Hyderabad', 'City1', 'City2']\n",
            "['Banglore', 'Mumbai', 'Delhi', 'Chennai', 'Hyderabad', 'City1', 'City2', 'City3', 'City4', 'City5']\n",
            "5\n",
            "['Banglore', 'Mumbai', 'Delhi', 'Chennai', 'Hyderabad', 'City1', 'City2', 'City3', 'City5']\n",
            "['Banglore', 'Delhi', 'Chennai', 'Hyderabad', 'City1', 'City2', 'City3', 'City5']\n"
          ],
          "name": "stdout"
        }
      ]
    },
    {
      "cell_type": "code",
      "metadata": {
        "id": "6IKqiB58NfcS",
        "outputId": "6d7affa0-762f-49eb-e393-c3ca4088cb50"
      },
      "source": [
        "#Sorting\n",
        "numberlist = [9, 3, 15, 7, 13, 1, 5, 11, 17]\n",
        "numberlist.sort()\n",
        "print(numberlist)\n",
        "\n",
        "print (len(numberlist))\n",
        "print (max(numberlist))\n",
        "print (min(numberlist))"
      ],
      "execution_count": null,
      "outputs": [
        {
          "output_type": "stream",
          "text": [
            "[1, 3, 5, 7, 9, 11, 13, 15, 17]\n",
            "9\n",
            "17\n",
            "1\n"
          ],
          "name": "stdout"
        }
      ]
    },
    {
      "cell_type": "code",
      "metadata": {
        "id": "0aIH9RR5NfcX"
      },
      "source": [
        "numberlist.sort?"
      ],
      "execution_count": null,
      "outputs": []
    },
    {
      "cell_type": "code",
      "metadata": {
        "id": "TGgsEXRSNfch",
        "outputId": "e02998d5-583b-4303-aef7-9f02fc6ce6e7"
      },
      "source": [
        "numberlist.sort(key=None, reverse=True)\n",
        "print(numberlist)"
      ],
      "execution_count": null,
      "outputs": [
        {
          "output_type": "stream",
          "text": [
            "[17, 15, 13, 11, 9, 7, 5, 3, 1]\n"
          ],
          "name": "stdout"
        }
      ]
    },
    {
      "cell_type": "code",
      "metadata": {
        "id": "l96luvtsNfcm",
        "outputId": "6ea09a32-11e1-4229-a3d9-f3c5aab887c3"
      },
      "source": [
        "charlist = ['abcded', 'g', 'hijk', 'lm', 'nopqrst']\n",
        "print (sorted(charlist, key=len))      # Sorted will not change the list.\n",
        "print(charlist)                        # Value of list remains the same.                       "
      ],
      "execution_count": null,
      "outputs": [
        {
          "output_type": "stream",
          "text": [
            "['g', 'lm', 'hijk', 'abcded', 'nopqrst']\n",
            "['abcded', 'g', 'hijk', 'lm', 'nopqrst']\n"
          ],
          "name": "stdout"
        }
      ]
    },
    {
      "cell_type": "markdown",
      "metadata": {
        "id": "bvEVAeJvNfcq"
      },
      "source": [
        "**Dictionary**\n",
        "Dictionary\n",
        "1. specify/Enclose in curly brackets - **{ }**\n",
        "2. **Key Value Pair** - (Key will be always 1, value can be multiple)\n",
        "\n"
      ]
    },
    {
      "cell_type": "code",
      "metadata": {
        "id": "gTqc9AW3Nfcr",
        "outputId": "43b113b5-b138-4e5f-a3bf-a74f62e8ca3f"
      },
      "source": [
        "#Dictionary is an abstract data type composed of collection of (key, value) pairs, key will be only 1 time, value can be multiple\n",
        "# Example 1: Single Key , Single Value\n",
        "dict1 = {}\n",
        "dict1['one'] = \"This is 1st String\"\n",
        "dict1[2]     = \"This is 2nd String\"\n",
        "\n",
        "print (dict1['one'])       # Prints value for 'one' key\n",
        "print (dict1[2])           # Prints value for 2 key"
      ],
      "execution_count": null,
      "outputs": [
        {
          "output_type": "stream",
          "text": [
            "This is 1st String\n",
            "This is 2nd String\n"
          ],
          "name": "stdout"
        }
      ]
    },
    {
      "cell_type": "code",
      "metadata": {
        "id": "6Ipq_Wx1Nfcu",
        "outputId": "3c7429e1-a96c-4370-a705-2740fa4a4b15"
      },
      "source": [
        "# Example 2: Single Key , Multiple Values\n",
        "dict2 = {'state': 'Maharashtra', 'city': ['Mumbai', 'Pune'],'code':23, 'dept': 'GST'}\n",
        "print (dict2)          # Prints complete dictionary\n",
        "print (dict2.keys())   # Prints all the keys\n",
        "print (dict2.values()) # Prints all the values"
      ],
      "execution_count": null,
      "outputs": [
        {
          "output_type": "stream",
          "text": [
            "{'state': 'Maharashtra', 'city': ['Mumbai', 'Pune'], 'code': 23, 'dept': 'GST'}\n",
            "dict_keys(['state', 'city', 'code', 'dept'])\n",
            "dict_values(['Maharashtra', ['Mumbai', 'Pune'], 23, 'GST'])\n"
          ],
          "name": "stdout"
        }
      ]
    },
    {
      "cell_type": "markdown",
      "metadata": {
        "id": "pIhXa49SNfcx"
      },
      "source": [
        "** Tuple **\n",
        "Tuple (Similar to list)\n",
        "\n",
        "Tuple (Similar to list)\n",
        "1. specify/Enclose in sqare brackets - **( )**\n",
        "2. **ImMutable.** (Can not Delete value, Can not add new value in middle/start. **However can add new value at the end**)\n"
      ]
    },
    {
      "cell_type": "code",
      "metadata": {
        "id": "4SVzH66VNfcx",
        "outputId": "404ee1fb-0b3d-4f21-af61-838f32bbab74"
      },
      "source": [
        "a = (1,2,3,4)\n",
        "print(a)\n",
        "\n",
        "\n",
        "# a[0]=10               # can not change the value or add in middle, as Tuple is immutable. Comment this line\n",
        "print(a.index(2)) \n",
        " \n",
        "a = a + (10,)           # Can append at the end      \n",
        "print(a)"
      ],
      "execution_count": null,
      "outputs": [
        {
          "output_type": "stream",
          "text": [
            "(1, 2, 3, 4)\n",
            "1\n",
            "(1, 2, 3, 4, 10)\n"
          ],
          "name": "stdout"
        }
      ]
    },
    {
      "cell_type": "code",
      "metadata": {
        "id": "thg3upy6Nfc2",
        "outputId": "fc6a53f0-bfa4-40fc-bf36-1d55402fcae4"
      },
      "source": [
        "print(id(a))                 # ID is unique number for all objects in program\n",
        "print(hex(id(a)))"
      ],
      "execution_count": null,
      "outputs": [
        {
          "output_type": "stream",
          "text": [
            "2004921352128\n",
            "0x1d2ce9fffc0\n"
          ],
          "name": "stdout"
        }
      ]
    },
    {
      "cell_type": "code",
      "metadata": {
        "id": "SEeFPDg_Nfc5",
        "outputId": "fdb5d773-9253-4ea2-c423-a36d6d3ae16c"
      },
      "source": [
        "# empty tuple\n",
        "tuple1 = ()\n",
        "print(tuple1)"
      ],
      "execution_count": null,
      "outputs": [
        {
          "output_type": "stream",
          "text": [
            "()\n"
          ],
          "name": "stdout"
        }
      ]
    },
    {
      "cell_type": "code",
      "metadata": {
        "id": "0kW_NHq3Nfc9",
        "outputId": "7f83b871-6e42-49d6-f8a8-7738eabec1e7"
      },
      "source": [
        "# Integer tuple\n",
        "tuple1 = (1, 2, 3)\n",
        "print(tuple1)"
      ],
      "execution_count": null,
      "outputs": [
        {
          "output_type": "stream",
          "text": [
            "(1, 2, 3)\n"
          ],
          "name": "stdout"
        }
      ]
    },
    {
      "cell_type": "code",
      "metadata": {
        "id": "HgAaviayNfdD",
        "outputId": "16cee91f-03cd-4bbc-d6d7-3e3f307b044c"
      },
      "source": [
        "# Mixed tuple\n",
        "tuple1 = (1, \"Hello\", 2.3)\n",
        "print(tuple1)"
      ],
      "execution_count": null,
      "outputs": [
        {
          "output_type": "stream",
          "text": [
            "(1, 'Hello', 2.3)\n"
          ],
          "name": "stdout"
        }
      ]
    },
    {
      "cell_type": "code",
      "metadata": {
        "id": "PhHFUiLvNfdO",
        "outputId": "00e1c246-2827-4eb7-f8f3-ccda21f23ae3"
      },
      "source": [
        "#Nested Tuple\n",
        "tuple1 = (\"mouse\", [1, 2, 3], (1, \"b\", 3))\n",
        "print(tuple1)"
      ],
      "execution_count": null,
      "outputs": [
        {
          "output_type": "stream",
          "text": [
            "('mouse', [1, 2, 3], (1, 'b', 3))\n"
          ],
          "name": "stdout"
        }
      ]
    },
    {
      "cell_type": "code",
      "metadata": {
        "id": "BvPRhHqzNfdU",
        "outputId": "2f73cc28-d9e1-40d4-8cb6-e68921b7edfd"
      },
      "source": [
        "#Without () parantheses\n",
        "tuple1 = 3, 2.3, \"dog\"\n",
        "print(tuple1)"
      ],
      "execution_count": null,
      "outputs": [
        {
          "output_type": "stream",
          "text": [
            "(3, 2.3, 'dog')\n"
          ],
          "name": "stdout"
        }
      ]
    },
    {
      "cell_type": "code",
      "metadata": {
        "id": "QE8qh-WnNfda",
        "outputId": "cf2233cb-1587-46f0-8c71-699330a03e9c"
      },
      "source": [
        "# Unpacking Tuple\n",
        "a, b, c = tuple1\n",
        "print(a)\n",
        "print(b)\n",
        "print(c)"
      ],
      "execution_count": null,
      "outputs": [
        {
          "output_type": "stream",
          "text": [
            "3\n",
            "2.3\n",
            "dog\n"
          ],
          "name": "stdout"
        }
      ]
    }
  ]
}